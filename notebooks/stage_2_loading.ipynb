{
 "cells": [
  {
   "cell_type": "markdown",
   "id": "9ffd973b",
   "metadata": {},
   "source": [
    "# Data Ingestion\n",
    "In this stage, we load csv files temp.csv, quetions.csv, and lectures.csv to PostgreSQL"
   ]
  },
  {
   "cell_type": "code",
   "execution_count": 1,
   "id": "29208189",
   "metadata": {},
   "outputs": [],
   "source": [
    "import pandas as pd\n",
    "import psycopg"
   ]
  },
  {
   "cell_type": "markdown",
   "id": "6f91e727",
   "metadata": {},
   "source": [
    "## Read csv into Pandas dataframes\n",
    "\n",
    "df_q: questions\n",
    "df_inter: interactions\n",
    "df_lec: lectures\n",
    "df_stu: students (student id)"
   ]
  },
  {
   "cell_type": "code",
   "execution_count": 2,
   "id": "3a9e8269",
   "metadata": {},
   "outputs": [],
   "source": [
    "#inital data preprocessing from student's interaction data\n",
    "df = pd.read_csv('data/temp.csv')\n",
    "df_inter = df.rename(columns = {'Unnamed: 0': 'interaction_id'})\n",
    "df_inter['interaction_id'] = df_inter['interaction_id'] + 1"
   ]
  },
  {
   "cell_type": "code",
   "execution_count": 3,
   "id": "84d46ddb",
   "metadata": {},
   "outputs": [],
   "source": [
    "#files paths for lectures, questions\n",
    "lec = 'data/lectures.csv'\n",
    "q = 'data/questions.csv'"
   ]
  },
  {
   "cell_type": "code",
   "execution_count": 4,
   "id": "80df39c7",
   "metadata": {},
   "outputs": [],
   "source": [
    "#read csv into pandas dataframe and derive a dataframe for students, the purpose is for future implementation of network features \n",
    "df_q = pd.read_csv(q)\n",
    "df_lec=pd.read_csv(lec)\n",
    "df_inter = df_inter[['interaction_id', 'user_id', 'timestamp', 'solving_id', 'question_id', 'user_answer', 'elapsed_time']]            \n",
    "#derive student id df from interactions\n",
    "df_stu = pd.DataFrame(df_inter['user_id'].drop_duplicates().reset_index(drop=True))\n",
    "df_stu = df_stu.rename(columns = {'user_id': 'student_id'})"
   ]
  },
  {
   "cell_type": "code",
   "execution_count": 5,
   "id": "295ffbe0",
   "metadata": {},
   "outputs": [
    {
     "data": {
      "text/html": [
       "<div>\n",
       "<style scoped>\n",
       "    .dataframe tbody tr th:only-of-type {\n",
       "        vertical-align: middle;\n",
       "    }\n",
       "\n",
       "    .dataframe tbody tr th {\n",
       "        vertical-align: top;\n",
       "    }\n",
       "\n",
       "    .dataframe thead th {\n",
       "        text-align: right;\n",
       "    }\n",
       "</style>\n",
       "<table border=\"1\" class=\"dataframe\">\n",
       "  <thead>\n",
       "    <tr style=\"text-align: right;\">\n",
       "      <th></th>\n",
       "      <th>interaction_id</th>\n",
       "      <th>user_id</th>\n",
       "      <th>timestamp</th>\n",
       "      <th>solving_id</th>\n",
       "      <th>question_id</th>\n",
       "      <th>user_answer</th>\n",
       "      <th>elapsed_time</th>\n",
       "    </tr>\n",
       "  </thead>\n",
       "  <tbody>\n",
       "    <tr>\n",
       "      <th>0</th>\n",
       "      <td>1</td>\n",
       "      <td>235778</td>\n",
       "      <td>1533827536952</td>\n",
       "      <td>1</td>\n",
       "      <td>q8098</td>\n",
       "      <td>b</td>\n",
       "      <td>21000</td>\n",
       "    </tr>\n",
       "    <tr>\n",
       "      <th>1</th>\n",
       "      <td>2</td>\n",
       "      <td>235778</td>\n",
       "      <td>1533827561361</td>\n",
       "      <td>2</td>\n",
       "      <td>q8074</td>\n",
       "      <td>b</td>\n",
       "      <td>22000</td>\n",
       "    </tr>\n",
       "    <tr>\n",
       "      <th>2</th>\n",
       "      <td>3</td>\n",
       "      <td>235778</td>\n",
       "      <td>1533827587043</td>\n",
       "      <td>3</td>\n",
       "      <td>q176</td>\n",
       "      <td>d</td>\n",
       "      <td>23000</td>\n",
       "    </tr>\n",
       "    <tr>\n",
       "      <th>3</th>\n",
       "      <td>4</td>\n",
       "      <td>235778</td>\n",
       "      <td>1533827606515</td>\n",
       "      <td>4</td>\n",
       "      <td>q1279</td>\n",
       "      <td>a</td>\n",
       "      <td>17000</td>\n",
       "    </tr>\n",
       "    <tr>\n",
       "      <th>4</th>\n",
       "      <td>5</td>\n",
       "      <td>235778</td>\n",
       "      <td>1533827678676</td>\n",
       "      <td>5</td>\n",
       "      <td>q2067</td>\n",
       "      <td>a</td>\n",
       "      <td>22666</td>\n",
       "    </tr>\n",
       "  </tbody>\n",
       "</table>\n",
       "</div>"
      ],
      "text/plain": [
       "   interaction_id  user_id      timestamp  solving_id question_id user_answer  \\\n",
       "0               1   235778  1533827536952           1       q8098           b   \n",
       "1               2   235778  1533827561361           2       q8074           b   \n",
       "2               3   235778  1533827587043           3        q176           d   \n",
       "3               4   235778  1533827606515           4       q1279           a   \n",
       "4               5   235778  1533827678676           5       q2067           a   \n",
       "\n",
       "   elapsed_time  \n",
       "0         21000  \n",
       "1         22000  \n",
       "2         23000  \n",
       "3         17000  \n",
       "4         22666  "
      ]
     },
     "execution_count": 5,
     "metadata": {},
     "output_type": "execute_result"
    }
   ],
   "source": [
    "df_inter.head()"
   ]
  },
  {
   "cell_type": "code",
   "execution_count": 12,
   "id": "edec6d75",
   "metadata": {},
   "outputs": [
    {
     "data": {
      "text/html": [
       "<div>\n",
       "<style scoped>\n",
       "    .dataframe tbody tr th:only-of-type {\n",
       "        vertical-align: middle;\n",
       "    }\n",
       "\n",
       "    .dataframe tbody tr th {\n",
       "        vertical-align: top;\n",
       "    }\n",
       "\n",
       "    .dataframe thead th {\n",
       "        text-align: right;\n",
       "    }\n",
       "</style>\n",
       "<table border=\"1\" class=\"dataframe\">\n",
       "  <thead>\n",
       "    <tr style=\"text-align: right;\">\n",
       "      <th></th>\n",
       "      <th>student_id</th>\n",
       "    </tr>\n",
       "  </thead>\n",
       "  <tbody>\n",
       "    <tr>\n",
       "      <th>0</th>\n",
       "      <td>235778</td>\n",
       "    </tr>\n",
       "    <tr>\n",
       "      <th>1</th>\n",
       "      <td>746942</td>\n",
       "    </tr>\n",
       "    <tr>\n",
       "      <th>2</th>\n",
       "      <td>837494</td>\n",
       "    </tr>\n",
       "    <tr>\n",
       "      <th>3</th>\n",
       "      <td>624986</td>\n",
       "    </tr>\n",
       "    <tr>\n",
       "      <th>4</th>\n",
       "      <td>289251</td>\n",
       "    </tr>\n",
       "  </tbody>\n",
       "</table>\n",
       "</div>"
      ],
      "text/plain": [
       "   student_id\n",
       "0      235778\n",
       "1      746942\n",
       "2      837494\n",
       "3      624986\n",
       "4      289251"
      ]
     },
     "execution_count": 12,
     "metadata": {},
     "output_type": "execute_result"
    }
   ],
   "source": [
    "df_stu.head()"
   ]
  },
  {
   "cell_type": "code",
   "execution_count": 13,
   "id": "6214f3d6",
   "metadata": {},
   "outputs": [
    {
     "data": {
      "text/html": [
       "<div>\n",
       "<style scoped>\n",
       "    .dataframe tbody tr th:only-of-type {\n",
       "        vertical-align: middle;\n",
       "    }\n",
       "\n",
       "    .dataframe tbody tr th {\n",
       "        vertical-align: top;\n",
       "    }\n",
       "\n",
       "    .dataframe thead th {\n",
       "        text-align: right;\n",
       "    }\n",
       "</style>\n",
       "<table border=\"1\" class=\"dataframe\">\n",
       "  <thead>\n",
       "    <tr style=\"text-align: right;\">\n",
       "      <th></th>\n",
       "      <th>question_id</th>\n",
       "      <th>bundle_id</th>\n",
       "      <th>explanation_id</th>\n",
       "      <th>correct_answer</th>\n",
       "      <th>part</th>\n",
       "      <th>tags</th>\n",
       "      <th>deployed_at</th>\n",
       "    </tr>\n",
       "  </thead>\n",
       "  <tbody>\n",
       "    <tr>\n",
       "      <th>0</th>\n",
       "      <td>q1</td>\n",
       "      <td>b1</td>\n",
       "      <td>e1</td>\n",
       "      <td>b</td>\n",
       "      <td>1</td>\n",
       "      <td>1;2;179;181</td>\n",
       "      <td>1558093217098</td>\n",
       "    </tr>\n",
       "    <tr>\n",
       "      <th>1</th>\n",
       "      <td>q2</td>\n",
       "      <td>b2</td>\n",
       "      <td>e2</td>\n",
       "      <td>a</td>\n",
       "      <td>1</td>\n",
       "      <td>15;2;182</td>\n",
       "      <td>1558093219720</td>\n",
       "    </tr>\n",
       "    <tr>\n",
       "      <th>2</th>\n",
       "      <td>q3</td>\n",
       "      <td>b3</td>\n",
       "      <td>e3</td>\n",
       "      <td>b</td>\n",
       "      <td>1</td>\n",
       "      <td>14;2;179;183</td>\n",
       "      <td>1558093222784</td>\n",
       "    </tr>\n",
       "    <tr>\n",
       "      <th>3</th>\n",
       "      <td>q4</td>\n",
       "      <td>b4</td>\n",
       "      <td>e4</td>\n",
       "      <td>b</td>\n",
       "      <td>1</td>\n",
       "      <td>9;2;179;184</td>\n",
       "      <td>1558093225357</td>\n",
       "    </tr>\n",
       "    <tr>\n",
       "      <th>4</th>\n",
       "      <td>q5</td>\n",
       "      <td>b5</td>\n",
       "      <td>e5</td>\n",
       "      <td>c</td>\n",
       "      <td>1</td>\n",
       "      <td>8;2;179;181</td>\n",
       "      <td>1558093228439</td>\n",
       "    </tr>\n",
       "  </tbody>\n",
       "</table>\n",
       "</div>"
      ],
      "text/plain": [
       "  question_id bundle_id explanation_id correct_answer  part          tags  \\\n",
       "0          q1        b1             e1              b     1   1;2;179;181   \n",
       "1          q2        b2             e2              a     1      15;2;182   \n",
       "2          q3        b3             e3              b     1  14;2;179;183   \n",
       "3          q4        b4             e4              b     1   9;2;179;184   \n",
       "4          q5        b5             e5              c     1   8;2;179;181   \n",
       "\n",
       "     deployed_at  \n",
       "0  1558093217098  \n",
       "1  1558093219720  \n",
       "2  1558093222784  \n",
       "3  1558093225357  \n",
       "4  1558093228439  "
      ]
     },
     "execution_count": 13,
     "metadata": {},
     "output_type": "execute_result"
    }
   ],
   "source": [
    "df_q.head()"
   ]
  },
  {
   "cell_type": "code",
   "execution_count": 14,
   "id": "86089ba7",
   "metadata": {},
   "outputs": [
    {
     "data": {
      "text/html": [
       "<div>\n",
       "<style scoped>\n",
       "    .dataframe tbody tr th:only-of-type {\n",
       "        vertical-align: middle;\n",
       "    }\n",
       "\n",
       "    .dataframe tbody tr th {\n",
       "        vertical-align: top;\n",
       "    }\n",
       "\n",
       "    .dataframe thead th {\n",
       "        text-align: right;\n",
       "    }\n",
       "</style>\n",
       "<table border=\"1\" class=\"dataframe\">\n",
       "  <thead>\n",
       "    <tr style=\"text-align: right;\">\n",
       "      <th></th>\n",
       "      <th>lecture_id</th>\n",
       "      <th>part</th>\n",
       "      <th>tags</th>\n",
       "      <th>video_length</th>\n",
       "      <th>deployed_at</th>\n",
       "    </tr>\n",
       "  </thead>\n",
       "  <tbody>\n",
       "    <tr>\n",
       "      <th>0</th>\n",
       "      <td>l520</td>\n",
       "      <td>5</td>\n",
       "      <td>142</td>\n",
       "      <td>-1</td>\n",
       "      <td>-1</td>\n",
       "    </tr>\n",
       "    <tr>\n",
       "      <th>1</th>\n",
       "      <td>l592</td>\n",
       "      <td>6</td>\n",
       "      <td>142</td>\n",
       "      <td>-1</td>\n",
       "      <td>-1</td>\n",
       "    </tr>\n",
       "    <tr>\n",
       "      <th>2</th>\n",
       "      <td>l1259</td>\n",
       "      <td>1</td>\n",
       "      <td>222</td>\n",
       "      <td>359000</td>\n",
       "      <td>1570424729123</td>\n",
       "    </tr>\n",
       "    <tr>\n",
       "      <th>3</th>\n",
       "      <td>l1260</td>\n",
       "      <td>1</td>\n",
       "      <td>220</td>\n",
       "      <td>487000</td>\n",
       "      <td>1570424738105</td>\n",
       "    </tr>\n",
       "    <tr>\n",
       "      <th>4</th>\n",
       "      <td>l1261</td>\n",
       "      <td>1</td>\n",
       "      <td>221</td>\n",
       "      <td>441000</td>\n",
       "      <td>1570424743162</td>\n",
       "    </tr>\n",
       "  </tbody>\n",
       "</table>\n",
       "</div>"
      ],
      "text/plain": [
       "  lecture_id  part  tags  video_length    deployed_at\n",
       "0       l520     5   142            -1             -1\n",
       "1       l592     6   142            -1             -1\n",
       "2      l1259     1   222        359000  1570424729123\n",
       "3      l1260     1   220        487000  1570424738105\n",
       "4      l1261     1   221        441000  1570424743162"
      ]
     },
     "execution_count": 14,
     "metadata": {},
     "output_type": "execute_result"
    }
   ],
   "source": [
    "df_lec.head()"
   ]
  },
  {
   "cell_type": "code",
   "execution_count": 6,
   "id": "5b9881c8",
   "metadata": {},
   "outputs": [],
   "source": [
    "#!pip install pandas sqlalchemy psycopg2-binary"
   ]
  },
  {
   "cell_type": "markdown",
   "id": "58c1e236",
   "metadata": {},
   "source": [
    "## Load pandas dataframe to PostgreSQL"
   ]
  },
  {
   "cell_type": "code",
   "execution_count": 7,
   "id": "b18df9da",
   "metadata": {},
   "outputs": [],
   "source": [
    "from sqlalchemy import create_engine, types\n",
    "\n",
    "username = 'postgres'\n",
    "password = '123'\n",
    "host = 'localhost'\n",
    "port = '5432'  \n",
    "database = '54_proj'\n",
    "\n",
    "engine = create_engine(f'postgresql://{username}:{password}@{host}:{port}/{database}')"
   ]
  },
  {
   "cell_type": "markdown",
   "id": "a1637066",
   "metadata": {},
   "source": [
    "### define schema datatypes while loading"
   ]
  },
  {
   "cell_type": "code",
   "execution_count": 8,
   "id": "be5bf432",
   "metadata": {},
   "outputs": [],
   "source": [
    "dtypes = {'question_id': types.VARCHAR(length=255), \n",
    "                      'bundle_id': types.VARCHAR(length=255),\n",
    "                      'explanation_id': types.VARCHAR(length=255),\n",
    "                      'correct_answer':types.CHAR(length=1),\n",
    "                     'part': types.INTEGER,\n",
    "                     'tags': types.VARCHAR(length=255),\n",
    "                     'deployed_at': types.BIGINT}\n",
    "df_q.to_sql('questions', con=engine,  if_exists='replace', index=False, chunksize=1000, dtype = dtypes)\n",
    "\n",
    "#define constraints: question_id as a primary key \n",
    "with engine.connect() as con:\n",
    "    con.execute(\"ALTER TABLE questions ADD PRIMARY KEY (question_id);\")"
   ]
  },
  {
   "cell_type": "code",
   "execution_count": 9,
   "id": "cdb93222",
   "metadata": {},
   "outputs": [],
   "source": [
    "dtypes = {'lecture_id': types.VARCHAR(length=255), \n",
    "                     'part': types.INTEGER,\n",
    "                     'tags': types.VARCHAR(length=255),\n",
    "                      'video_length': types.INTEGER,\n",
    "                     'deployed_at': types.BIGINT}\n",
    "df_lec.to_sql('lectures', con=engine,  if_exists='replace', index=False, chunksize=1000, dtype = dtypes)\n",
    "\n",
    "#define constraints: lecture_id as a primary key \n",
    "with engine.connect() as con:\n",
    "    con.execute(\"ALTER TABLE lectures ADD PRIMARY KEY (lecture_id);\")"
   ]
  },
  {
   "cell_type": "code",
   "execution_count": 10,
   "id": "5e3dfe72",
   "metadata": {},
   "outputs": [],
   "source": [
    "dtypes = {'student_id': types.INTEGER}\n",
    "df_stu.to_sql('students', con=engine,  if_exists='replace', index=False, chunksize=1000, dtype = dtypes)\n",
    "\n",
    "#define constraints: student_id as a primary key \n",
    "with engine.connect() as con:\n",
    "    con.execute(\"ALTER TABLE students ADD PRIMARY KEY (student_id);\")"
   ]
  },
  {
   "cell_type": "code",
   "execution_count": 11,
   "id": "4f826406",
   "metadata": {},
   "outputs": [],
   "source": [
    "dtypes = {'interaction_id': types.INTEGER,\n",
    "         'user_id': types.INTEGER,\n",
    "          'timestamp': types.BIGINT,\n",
    "          'solving_id': types.INTEGER,\n",
    "          'question_id': types.VARCHAR(length=255), \n",
    "          'user_answer':types.CHAR(length=1),\n",
    "         'elapsed_time': types.INTEGER,\n",
    "         'tags': types.VARCHAR(length=255),\n",
    "         'video_length': types.INTEGER}\n",
    "df_inter.to_sql('interactions', con=engine,  if_exists='replace', index=False, chunksize=1000, dtype = dtypes)\n",
    "\n",
    "#define constraints: interaction_id as a primary key, user_id references student_id, question_id reference question_id\n",
    "with engine.connect() as con:\n",
    "    con.execute(\"ALTER TABLE interactions ADD PRIMARY KEY (interaction_id);\")\n",
    "    con.execute(\"ALTER TABLE interactions ADD FOREIGN KEY (user_id) REFERENCES students(student_id);\")\n",
    "    con.execute(\"ALTER TABLE interactions ADD FOREIGN KEY (question_id) REFERENCES questions(question_id);\")"
   ]
  }
 ],
 "metadata": {
  "kernelspec": {
   "display_name": "Python 3 (ipykernel)",
   "language": "python",
   "name": "python3"
  },
  "language_info": {
   "codemirror_mode": {
    "name": "ipython",
    "version": 3
   },
   "file_extension": ".py",
   "mimetype": "text/x-python",
   "name": "python",
   "nbconvert_exporter": "python",
   "pygments_lexer": "ipython3",
   "version": "3.11.5"
  }
 },
 "nbformat": 4,
 "nbformat_minor": 5
}
