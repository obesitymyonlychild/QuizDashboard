{
 "cells": [
  {
   "cell_type": "markdown",
   "metadata": {},
   "source": [
    "# Data Ingestion\n",
    "## Extract files from source raw"
   ]
  },
  {
   "cell_type": "markdown",
   "metadata": {},
   "source": [
    "Unzip documents & Combine 187k csv to one "
   ]
  },
  {
   "cell_type": "markdown",
   "metadata": {
    "id": "poRuvhm0PQFU"
   },
   "source": [
    "original data source:\n",
    "- https://drive.google.com/file/d/1AmGcOs5U31wIIqvthn9ARqJMrMTFTcaw/view\n",
    "- https://drive.google.com/file/d/117aYJAWG3GU48suS66NPaB82HwFj6xWS/view\n",
    "\n",
    "processed data folder: https://drive.google.com/drive/folders/1SxL76uErvzq7PZGXCZYqMJE0sW7dWUsM?usp=drive_link\n",
    "- temp.csv: processed through this notebook\n",
    "- quesions.csv: downloaded from second original source\n",
    "- lectures.csv: downloaded from second original source\n",
    "Since the unzip process takes too long, We decided to manually stop the unzip and collect the filenames of unzipped ones for reproduction purpose. \n",
    "- keys.txt: names of csv used as a subset in this project.\n",
    "\n",
    "All data files needed for later stages are included in the above processed data folder.\n",
    "\n",
    "Env: google colab"
   ]
  },
  {
   "cell_type": "code",
   "execution_count": null,
   "metadata": {
    "colab": {
     "base_uri": "https://localhost:8080/",
     "height": 474
    },
    "id": "MHOfWFwGgMi5",
    "outputId": "ab4d9c5d-39b6-448f-e3c1-8469a927568c"
   },
   "outputs": [],
   "source": [
    "#!pip install patool\n",
    "import patoolib\n",
    "patoolib.extract_archive('/content/EdNet-KT1.zip')"
   ]
  },
  {
   "cell_type": "code",
   "execution_count": null,
   "metadata": {
    "colab": {
     "base_uri": "https://localhost:8080/"
    },
    "id": "lsEaBjuzo4wB",
    "outputId": "9d9518d9-f523-46bf-95c1-365db0c2da34"
   },
   "outputs": [
    {
     "name": "stdout",
     "output_type": "stream",
     "text": [
      "Skipping empty file: u822177.csv\n"
     ]
    }
   ],
   "source": [
    "#The section below processes 187k csv files with each of the file name as a unique student id.\n",
    "import os, re\n",
    "import pandas as pd\n",
    "unp = os.listdir('/content/')\n",
    "folder = [s for s in unp if s.startswith(\"Unpack\")][0]\n",
    "\n",
    "dir = '/content/' + folder + '/KT1'\n",
    "dfs = []\n",
    "rem = []\n",
    "for filename in os.listdir(dir):\n",
    "    if filename.endswith('.csv'):\n",
    "        # Extract user_id from filename, assuming it's formatted like 'uXXXXX.csv'\n",
    "        user_id = re.search(r'u(\\d+)', filename).group(1)\n",
    "\n",
    "        # Read the CSV file\n",
    "        file_path = os.path.join(dir, filename)\n",
    "        try:\n",
    "            df = pd.read_csv(file_path)\n",
    "\n",
    "            # Check if the dataframe is empty\n",
    "            if df.empty:\n",
    "                print(f\"Skipping empty file: {filename}\")\n",
    "                rem.append(filename)\n",
    "                continue\n",
    "\n",
    "            # Add the user_id column\n",
    "            df['user_id'] = user_id\n",
    "\n",
    "            # Append the dataframe to the list\n",
    "            dfs.append(df)\n",
    "        except pd.errors.EmptyDataError:\n",
    "            print(f\"Skipping empty file: {filename}\")\n",
    "            rem.append(filename)\n",
    "            continue\n",
    "\n",
    "\n",
    "# Concatenate all dataframes into one\n",
    "combined_df = pd.concat(dfs, ignore_index=True)"
   ]
  },
  {
   "cell_type": "code",
   "execution_count": null,
   "metadata": {
    "colab": {
     "base_uri": "https://localhost:8080/"
    },
    "id": "Ax_DrM1VvYyQ",
    "outputId": "3b3a93f0-aa8c-4183-f847-4fa81f8518b6"
   },
   "outputs": [
    {
     "name": "stdout",
     "output_type": "stream",
     "text": [
      "1075645401\n"
     ]
    }
   ],
   "source": [
    "combined_df.to_csv('/content/temp.csv')\n",
    "file_size = os.path.getsize('/content/temp.csv')\n",
    "print(file_size)"
   ]
  },
  {
   "cell_type": "code",
   "execution_count": null,
   "metadata": {
    "id": "IEOJfXFtuQJ4"
   },
   "outputs": [],
   "source": [
    "#document the filenames that is extracted in keys.txt\n",
    "selected_files = os.listdir(dir)\n",
    "#\n",
    "for remo in rem:\n",
    "  selected_files.remove(remo)\n",
    "# Save the list of selected file names to a text file for future reference\n",
    "with open('keys.txt', 'w') as f:\n",
    "    for filename in selected_files:\n",
    "        f.write(f\"{filename}\\n\")"
   ]
  },
  {
   "cell_type": "code",
   "execution_count": null,
   "metadata": {
    "colab": {
     "base_uri": "https://localhost:8080/"
    },
    "id": "W7_I9kil8UC6",
    "outputId": "61ea66f3-f2fb-4592-e30a-eb4f63702bc0"
   },
   "outputs": [
    {
     "name": "stdout",
     "output_type": "stream",
     "text": [
      "Mounted at /content/drive\n"
     ]
    }
   ],
   "source": [
    "from google.colab import drive\n",
    "drive.mount('/content/drive')"
   ]
  },
  {
   "cell_type": "code",
   "execution_count": null,
   "metadata": {
    "id": "JZvTCMPa9P3t"
   },
   "outputs": [],
   "source": [
    "# Save dataframe to google drive\n",
    "file_path = '/content/drive/My Drive/5400Project/data_vsubmit/temp.csv'\n",
    "# Save the DataFrame to a CSV file\n",
    "combined_df.to_csv(file_path)"
   ]
  }
 ],
 "metadata": {
  "colab": {
   "provenance": []
  },
  "kernelspec": {
   "display_name": "Python 3 (ipykernel)",
   "language": "python",
   "name": "python3"
  },
  "language_info": {
   "codemirror_mode": {
    "name": "ipython",
    "version": 3
   },
   "file_extension": ".py",
   "mimetype": "text/x-python",
   "name": "python",
   "nbconvert_exporter": "python",
   "pygments_lexer": "ipython3",
   "version": "3.11.5"
  }
 },
 "nbformat": 4,
 "nbformat_minor": 1
}
